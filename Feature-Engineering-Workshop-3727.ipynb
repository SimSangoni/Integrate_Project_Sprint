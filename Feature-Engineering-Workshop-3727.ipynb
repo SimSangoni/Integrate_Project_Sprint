{
 "cells": [
  {
   "cell_type": "markdown",
   "id": "1d7bb498-2cd4-490b-adae-7ae10b642956",
   "metadata": {},
   "source": [
    "# Feature Engineering \n",
    "\n",
    "Feature Engineering is the process of transforming raw data into meaningful features that can be used as input for advanceced visualisations or machine learning algorithms.\n",
    "\n",
    "It involves selecting, creating, and transforming features to hopefully enhance the dataset.\n",
    "\n",
    "Poorly designed features can lead to a disruptive dataset. \n"
   ]
  },
  {
   "cell_type": "markdown",
   "id": "db00ae03-b011-4305-b075-32fabe841604",
   "metadata": {},
   "source": [
    "## Types of Feature Engineering\n",
    "\n",
    "* **Handling Missing Values**\n",
    "\n",
    "    Filling missing values with appropriate strategies, e.g., mean, median, or constant values.\n",
    "\n",
    "* **Encoding Categorical Variables**\n",
    "\n",
    "    Converting categorical data into numeric form, such as one-hot encoding or label encoding. Only needed if you are building a model\n",
    "\n",
    "* **Binning Numeric Variables**\n",
    "\n",
    "    Grouping continuous data into bins or categories to simplify the representation.\n",
    "\n",
    "* **Feature Scaling**\n",
    "\n",
    "    Scaling features to bring them to a similar range, e.g., Min-Max scaling or Standard scaling.\n",
    "\n",
    "* **Creating New Features**\n",
    "\n",
    "    Generating new features by combining or transforming existing ones.\n",
    "\n",
    "* **Handling Outliers**\n",
    "\n",
    "    Managing extreme values that can affect model performance.\n",
    "\n",
    "* **Feature Joining**\n",
    "\n",
    "    Creating new features by combining multiple existing features."
   ]
  },
  {
   "cell_type": "markdown",
   "id": "68733283-f136-4d56-942f-b8115a456483",
   "metadata": {},
   "source": [
    "## Imports and Dataset"
   ]
  },
  {
   "cell_type": "code",
   "execution_count": 1,
   "id": "c2bf70a2-01a2-4556-a822-289641ad05c3",
   "metadata": {},
   "outputs": [],
   "source": [
    "import pandas as pd\n",
    "import numpy as np\n",
    "import matplotlib.pyplot as plt"
   ]
  },
  {
   "cell_type": "code",
   "execution_count": null,
   "id": "1cc613e5-059a-4ac5-9f24-b8ddaeaf6c2d",
   "metadata": {},
   "outputs": [],
   "source": [
    "df = pd.read_csv(\"insurance_claims.csv\")"
   ]
  },
  {
   "cell_type": "code",
   "execution_count": null,
   "id": "31cca622-5b1b-4308-9c78-6191bf045623",
   "metadata": {},
   "outputs": [],
   "source": [
    "df.head()"
   ]
  },
  {
   "cell_type": "markdown",
   "id": "28b039af-5898-4dd0-a767-d886c83500d7",
   "metadata": {},
   "source": [
    "### Missing Values"
   ]
  },
  {
   "cell_type": "code",
   "execution_count": null,
   "id": "0800da98-7da0-4bd4-9de9-47749b350e20",
   "metadata": {},
   "outputs": [],
   "source": [
    "null_counts = df.isnull().sum()\n",
    "null_counts"
   ]
  },
  {
   "cell_type": "code",
   "execution_count": 27,
   "id": "dfbd7858-da0e-407c-8cd6-30e9bab5575e",
   "metadata": {},
   "outputs": [],
   "source": [
    "df_new = df.drop(\"_c39\", axis = 1)"
   ]
  },
  {
   "cell_type": "code",
   "execution_count": null,
   "id": "7d01165f-5b06-4688-9e69-5b07d37c4289",
   "metadata": {},
   "outputs": [],
   "source": [
    "df_new.head()"
   ]
  },
  {
   "cell_type": "markdown",
   "id": "13e4752e-c507-4931-b50e-95d3bddf4109",
   "metadata": {},
   "source": [
    "### Binding Numeric Data"
   ]
  },
  {
   "cell_type": "code",
   "execution_count": null,
   "id": "905dc640-38db-44b6-8971-d4f527998914",
   "metadata": {},
   "outputs": [],
   "source": [
    "df_new.describe()"
   ]
  },
  {
   "cell_type": "code",
   "execution_count": null,
   "id": "4ba1cb3d-77d4-4d1a-b38d-0f46cf7f6df6",
   "metadata": {},
   "outputs": [],
   "source": [
    "# Choose the column for the histogram\n",
    "column_name = 'age'\n",
    "\n",
    "# Plot the histogram\n",
    "plt.hist(df[column_name], bins=3, edgecolor='black')\n",
    "\n",
    "# Add labels and title\n",
    "plt.xlabel(column_name)\n",
    "plt.ylabel('Frequency')\n",
    "plt.title(f'Histogram of {column_name}')\n",
    "\n",
    "# Display the histogram\n",
    "plt.show()"
   ]
  },
  {
   "cell_type": "code",
   "execution_count": 31,
   "id": "9b8dba85-8941-4c79-b1a9-c95c3b9b7d57",
   "metadata": {},
   "outputs": [],
   "source": [
    "bin_edges = [0, 30, 55, 100]  # Define the bin edges\n",
    "bin_labels = ['Young Adult', 'Middle Aged', 'Elderly']  # Corresponding labels for each bin\n",
    "\n",
    "# Create a new column based on the bin labels\n",
    "df_new['ages_category'] = pd.cut(df_new['age'], bins=bin_edges, labels=bin_labels)"
   ]
  },
  {
   "cell_type": "code",
   "execution_count": null,
   "id": "fa5991aa-a4b6-43d2-b805-527408680f81",
   "metadata": {},
   "outputs": [],
   "source": [
    "df_new.head()"
   ]
  },
  {
   "cell_type": "code",
   "execution_count": 38,
   "id": "f01678dc-1d28-4d48-97eb-8a5b00d0eb42",
   "metadata": {},
   "outputs": [],
   "source": [
    "bin_edges_customer = [0, 25, 150, 500]  # Define the bin edges\n",
    "bin_labels_customer = ['New Client', 'Established Client', 'Long-Term Client']  # Corresponding labels for each bin\n",
    "\n",
    "# Create a new column based on the bin labels\n",
    "df_new['customer_category'] = pd.cut(df_new['months_as_customer'], bins=bin_edges_customer, labels=bin_labels_customer)"
   ]
  },
  {
   "cell_type": "code",
   "execution_count": null,
   "id": "85f36804-34a6-4efa-83e9-82506e86b8bc",
   "metadata": {},
   "outputs": [],
   "source": [
    "df_new.head()"
   ]
  },
  {
   "cell_type": "markdown",
   "id": "f0d27a46-fa58-4e2e-86f2-3a1417bdfdb9",
   "metadata": {},
   "source": [
    "## Creating New Features"
   ]
  },
  {
   "cell_type": "code",
   "execution_count": 40,
   "id": "10c17af3-937e-4173-a2a4-d4e571464846",
   "metadata": {},
   "outputs": [],
   "source": [
    "df_new[\"Contract Years\"] = df_new[\"months_as_customer\"]/12"
   ]
  },
  {
   "cell_type": "code",
   "execution_count": null,
   "id": "e04ff9ee-dfcc-4a6b-93af-b9449358159f",
   "metadata": {},
   "outputs": [],
   "source": [
    "df_new.head()"
   ]
  },
  {
   "cell_type": "markdown",
   "id": "b2678f0a-ba66-45e2-bd42-657bd3896354",
   "metadata": {},
   "source": [
    "## Feature Joining"
   ]
  },
  {
   "cell_type": "code",
   "execution_count": 45,
   "id": "69033b82-69b6-4798-904a-919cece1dc02",
   "metadata": {},
   "outputs": [],
   "source": [
    "df_new['total_premiums_paid'] = (df_new['policy_annual_premium']/12) * df_new['months_as_customer']"
   ]
  },
  {
   "cell_type": "code",
   "execution_count": null,
   "id": "90f60fb8-07b4-445f-9236-bcf7adffd6dc",
   "metadata": {},
   "outputs": [],
   "source": [
    "df_new.head()"
   ]
  },
  {
   "cell_type": "code",
   "execution_count": 48,
   "id": "9e913509-58e2-4701-afe5-ee118dda471e",
   "metadata": {},
   "outputs": [],
   "source": [
    "df_new['net_value_of_customer'] = df_new['total_premiums_paid'] - df_new['total_claim_amount']"
   ]
  },
  {
   "cell_type": "code",
   "execution_count": null,
   "id": "91a365ae-f54f-4565-b47a-dc573d3ba05b",
   "metadata": {},
   "outputs": [],
   "source": [
    "df_new.head()"
   ]
  },
  {
   "cell_type": "markdown",
   "id": "83452fb5-09ac-406a-b46f-45f9f208adaa",
   "metadata": {},
   "source": [
    "## Saving the csv for late"
   ]
  },
  {
   "cell_type": "code",
   "execution_count": 51,
   "id": "a75d7be4-a64c-47c4-8b4b-93a142489448",
   "metadata": {},
   "outputs": [],
   "source": [
    "df_new.to_csv('Advanced Features Claims Data.csv')"
   ]
  },
  {
   "cell_type": "markdown",
   "id": "b5375c2a-f295-42f1-9c44-a1f24d8e2af0",
   "metadata": {},
   "source": [
    "## Go wild\n",
    "\n",
    "Go out a see what other features you can create that will be useful for our visualisations"
   ]
  },
  {
   "cell_type": "code",
   "execution_count": null,
   "id": "a452427a-789f-435b-a441-a50d8c3d4b2b",
   "metadata": {},
   "outputs": [],
   "source": []
  }
 ],
 "metadata": {
  "kernelspec": {
   "display_name": "Python 3",
   "language": "python",
   "name": "python3"
  },
  "language_info": {
   "codemirror_mode": {
    "name": "ipython",
    "version": 3
   },
   "file_extension": ".py",
   "mimetype": "text/x-python",
   "name": "python",
   "nbconvert_exporter": "python",
   "pygments_lexer": "ipython3",
   "version": "3.12.5"
  }
 },
 "nbformat": 4,
 "nbformat_minor": 5
}
